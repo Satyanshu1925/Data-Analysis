{
 "cells": [
  {
   "cell_type": "code",
   "execution_count": 9,
   "id": "d9e0c36b",
   "metadata": {
    "scrolled": true
   },
   "outputs": [
    {
     "data": {
      "text/plain": [
       "[['Paris', 200, 20, 200],\n",
       " ['London', 250, 30, 120],\n",
       " ['Dubai', 370, 15, 80],\n",
       " ['Mumbai', 450, 10, 70]]"
      ]
     },
     "execution_count": 9,
     "metadata": {},
     "output_type": "execute_result"
    }
   ],
   "source": [
    "import math\n",
    "# {City, Return Flight, Hotel per day, Weekly Car Rental}\n",
    "data = [['Paris',200,20,200],\n",
    "       ['London',250,30,120],\n",
    "       ['Dubai',370,15,80],\n",
    "       ['Mumbai',450,10,70]]\n",
    "data"
   ]
  },
  {
   "cell_type": "code",
   "execution_count": 10,
   "id": "a59335ef",
   "metadata": {},
   "outputs": [],
   "source": [
    "def cost_by_days(days):\n",
    "    cost_by_city = []\n",
    "    day = math.ceil(days/7)\n",
    "    for i in data:\n",
    "        city = (i[1])+i[2]*days+(i[3])*day\n",
    "        cost_by_city.append(city)\n",
    "    return cost_by_city"
   ]
  },
  {
   "cell_type": "code",
   "execution_count": 11,
   "id": "3fa39111",
   "metadata": {},
   "outputs": [],
   "source": [
    "def city_and_expenses(days):\n",
    "    cost = cost_by_days(days)\n",
    "    for i in range(len(cost)):\n",
    "        print(\"City {0} Expenses ${1} \".format(data[i][0],cost[i]))"
   ]
  },
  {
   "cell_type": "code",
   "execution_count": 1,
   "id": "d53eb71f",
   "metadata": {},
   "outputs": [],
   "source": [
    "def min_expenses(days):\n",
    "    cost = cost_by_days(days)    \n",
    "    print(\"Minimum expenses city is {0} expenses ${1}\".format(data[cost.index(min(cost))][0],min(cost)))"
   ]
  },
  {
   "cell_type": "code",
   "execution_count": 13,
   "id": "769d9cd3",
   "metadata": {},
   "outputs": [],
   "source": [
    "def max_expenses(days):\n",
    "    cost = cost_by_days(days)\n",
    "    print(\"Maximum expenses city is {0} expenses ${1}\".format(data[cost.index(max(cost))][0],max(cost)))"
   ]
  },
  {
   "cell_type": "code",
   "execution_count": 14,
   "id": "3f7f78a3",
   "metadata": {},
   "outputs": [
    {
     "name": "stdout",
     "output_type": "stream",
     "text": [
      "Enter the number of days u want to plain for trip  1000\n",
      "City Paris Expenses $48800 \n",
      "City London Expenses $47410 \n",
      "City Dubai Expenses $26810 \n",
      "City Mumbai Expenses $20460 \n",
      "Minimum expenses city is Mumbai expenses $20460\n",
      "Maximum expenses city is Paris expenses $48800\n"
     ]
    }
   ],
   "source": [
    "days= int(input(\"Enter the number of days u want to plain for trip  \"))\n",
    "city_and_expenses(days)\n",
    "min_expenses(days)\n",
    "max_expenses(days)"
   ]
  },
  {
   "cell_type": "code",
   "execution_count": 15,
   "id": "2bec6ecc",
   "metadata": {},
   "outputs": [],
   "source": [
    "def trip_by_budget(money):\n",
    "    d = 1\n",
    "    cost = cost_by_days(d)\n",
    "    if min(cost) > money:\n",
    "        print(\"No city can be visited\")\n",
    "        return None\n",
    "    while(min(cost) <= money):\n",
    "        d+=1\n",
    "        cost = cost_by_days(d)\n",
    "    d = d-1\n",
    "    cost = cost_by_days(d)\n",
    "    print(\"Days {0} City {2} Expenses ${1}\".format(d,min(cost),data[cost.index(min(cost))][0]))"
   ]
  },
  {
   "cell_type": "code",
   "execution_count": 16,
   "id": "5e95950e",
   "metadata": {},
   "outputs": [
    {
     "name": "stdout",
     "output_type": "stream",
     "text": [
      "Enter the amount of money 48800\n",
      "Days 2415 City Mumbai Expenses $48750\n"
     ]
    }
   ],
   "source": [
    "money = int(input(\"Enter the amount of money \"))\n",
    "trip_by_budget(money)"
   ]
  },
  {
   "cell_type": "code",
   "execution_count": null,
   "id": "901d9cb2",
   "metadata": {},
   "outputs": [],
   "source": []
  },
  {
   "cell_type": "code",
   "execution_count": null,
   "id": "7fb560d2",
   "metadata": {},
   "outputs": [],
   "source": []
  }
 ],
 "metadata": {
  "kernelspec": {
   "display_name": "Python 3 (ipykernel)",
   "language": "python",
   "name": "python3"
  },
  "language_info": {
   "codemirror_mode": {
    "name": "ipython",
    "version": 3
   },
   "file_extension": ".py",
   "mimetype": "text/x-python",
   "name": "python",
   "nbconvert_exporter": "python",
   "pygments_lexer": "ipython3",
   "version": "3.9.12"
  }
 },
 "nbformat": 4,
 "nbformat_minor": 5
}
